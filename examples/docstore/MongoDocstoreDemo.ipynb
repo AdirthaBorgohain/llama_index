{
    "cells": [
        {
            "cell_type": "code",
            "execution_count": null,
            "id": "a54d1c43-4b7f-4917-939f-a964f6f3dafc",
            "metadata": {
                "scrolled": true,
                "tags": []
            },
            "outputs": [],
            "source": [
                "import nest_asyncio\n",
                "nest_asyncio.apply()"
            ]
        },
        {
            "cell_type": "code",
            "execution_count": null,
            "id": "fa67fa07-1395-4aab-a356-72bdb302f6b2",
            "metadata": {
                "scrolled": true,
                "tags": []
            },
            "outputs": [],
            "source": [
                "import logging\n",
                "import sys\n",
                "\n",
                "logging.basicConfig(stream=sys.stdout, level=logging.INFO)\n",
                "logging.getLogger().addHandler(logging.StreamHandler(stream=sys.stdout))"
            ]
        },
        {
            "cell_type": "code",
            "execution_count": null,
            "id": "1d12d766-3ca8-4012-9da2-248be80bb6ab",
            "metadata": {
                "scrolled": true,
                "tags": []
            },
            "outputs": [],
            "source": [
                "# from gpt_index.composability.joint_qa_summary import QASummaryGraphBuilder\n",
                "from gpt_index import SimpleDirectoryReader, ServiceContext, LLMPredictor\n",
                "from gpt_index import GPTSimpleVectorIndex, GPTListIndex, GPTSimpleKeywordTableIndex\n",
                "from gpt_index.composability import ComposableGraph\n",
                "from langchain.chat_models import ChatOpenAI\n",
                "from gpt_index.response.notebook_utils import display_response"
            ]
        },
        {
            "cell_type": "markdown",
            "id": "f6dd9d5f-a601-4097-894e-fe98a0c35a5b",
            "metadata": {},
            "source": [
                "#### Load Documents"
            ]
        },
        {
            "cell_type": "code",
            "execution_count": null,
            "id": "e7cdaf9d-cfbd-4ced-8d4e-6eef8508224d",
            "metadata": {
                "scrolled": true,
                "tags": []
            },
            "outputs": [],
            "source": [
                "reader = SimpleDirectoryReader('../paul_graham_essay/data')\n",
                "documents = reader.load_data()"
            ]
        },
        {
            "cell_type": "markdown",
            "id": "bae82b55-5c9f-432a-9e06-1fccb6f9fc7f",
            "metadata": {},
            "source": [
                "#### Parse into Nodes"
            ]
        },
        {
            "cell_type": "code",
            "execution_count": null,
            "id": "f97e558a-c29f-44ec-ab33-1f481da1a6ef",
            "metadata": {
                "scrolled": true,
                "tags": []
            },
            "outputs": [],
            "source": [
                "from gpt_index.node_parser import SimpleNodeParser\n",
                "nodes = SimpleNodeParser().get_nodes_from_documents(documents)"
            ]
        },
        {
            "cell_type": "markdown",
            "id": "aff4c8e1-b2ba-4ea6-a8df-978c2788fedc",
            "metadata": {},
            "source": [
                "#### Add to Docstore"
            ]
        },
        {
            "cell_type": "code",
            "execution_count": null,
            "id": "e9758a2f",
            "metadata": {
                "scrolled": true
            },
            "outputs": [],
            "source": [
                "MONGO_URI = \"\""
            ]
        },
        {
            "cell_type": "code",
            "execution_count": null,
            "id": "1ba8b0da-67a8-4653-8cdb-09e39583a2d8",
            "metadata": {
                "scrolled": true,
                "tags": []
            },
            "outputs": [],
            "source": [
                "from gpt_index.docstore import MongoDocumentStore\n",
                "docstore = MongoDocumentStore.from_uri(uri=MONGO_URI)"
            ]
        },
        {
            "cell_type": "code",
            "execution_count": null,
            "id": "b1fa191b",
            "metadata": {
                "scrolled": true
            },
            "outputs": [],
            "source": [
                "docstore.add_documents(nodes)"
            ]
        },
        {
            "cell_type": "markdown",
            "id": "528149c1-5bde-4eba-b75a-e8fa1da17d7c",
            "metadata": {},
            "source": [
                "#### Define Multiple Indexes\n",
                "\n",
                "Each index uses the same underlying Node."
            ]
        },
        {
            "cell_type": "code",
            "execution_count": null,
            "id": "316fb6ac-2031-4d17-9999-ffdb827f46d1",
            "metadata": {
                "scrolled": true,
                "tags": []
            },
            "outputs": [],
            "source": [
                "list_index = GPTListIndex(nodes, docstore=docstore)"
            ]
        },
        {
            "cell_type": "code",
            "execution_count": 42,
            "id": "4d029b6a",
            "metadata": {},
            "outputs": [
                {
                    "ename": "AttributeError",
                    "evalue": "'MongoDocumentStore' object has no attribute 'to_dict'",
                    "output_type": "error",
                    "traceback": [
                        "\u001b[0;31m---------------------------------------------------------------------------\u001b[0m",
                        "\u001b[0;31mAttributeError\u001b[0m                            Traceback (most recent call last)",
                        "Cell \u001b[0;32mIn[42], line 1\u001b[0m\n\u001b[0;32m----> 1\u001b[0m \u001b[43mlist_index\u001b[49m\u001b[38;5;241;43m.\u001b[39;49m\u001b[43msave_to_dict\u001b[49m\u001b[43m(\u001b[49m\u001b[43m)\u001b[49m\n",
                        "File \u001b[0;32m~/dev/gpt_index/gpt_index/indices/base.py:370\u001b[0m, in \u001b[0;36mBaseGPTIndex.save_to_dict\u001b[0;34m(self, **save_kwargs)\u001b[0m\n\u001b[1;32m    366\u001b[0m \u001b[38;5;28;01mdef\u001b[39;00m \u001b[38;5;21msave_to_dict\u001b[39m(\u001b[38;5;28mself\u001b[39m, \u001b[38;5;241m*\u001b[39m\u001b[38;5;241m*\u001b[39msave_kwargs: Any) \u001b[38;5;241m-\u001b[39m\u001b[38;5;241m>\u001b[39m \u001b[38;5;28mdict\u001b[39m:\n\u001b[1;32m    367\u001b[0m \u001b[38;5;250m    \u001b[39m\u001b[38;5;124;03m\"\"\"Save to dict.\"\"\"\u001b[39;00m\n\u001b[1;32m    368\u001b[0m     out_dict: Dict[\u001b[38;5;28mstr\u001b[39m, Any] \u001b[38;5;241m=\u001b[39m {\n\u001b[1;32m    369\u001b[0m         INDEX_STRUCT_KEY: \u001b[38;5;28mself\u001b[39m\u001b[38;5;241m.\u001b[39mindex_struct\u001b[38;5;241m.\u001b[39mto_dict(),\n\u001b[0;32m--> 370\u001b[0m         DOCSTORE_KEY: \u001b[38;5;28;43mself\u001b[39;49m\u001b[38;5;241;43m.\u001b[39;49m\u001b[43mdocstore\u001b[49m\u001b[38;5;241;43m.\u001b[39;49m\u001b[43mto_dict\u001b[49m(),\n\u001b[1;32m    371\u001b[0m     }\n\u001b[1;32m    372\u001b[0m     \u001b[38;5;28;01mreturn\u001b[39;00m out_dict\n",
                        "\u001b[0;31mAttributeError\u001b[0m: 'MongoDocumentStore' object has no attribute 'to_dict'"
                    ]
                }
            ],
            "source": [
                "list_index.save_to_dict()"
            ]
        },
        {
            "cell_type": "code",
            "execution_count": null,
            "id": "9440f405-fa75-4788-bc7c-11d021a0a17b",
            "metadata": {
                "scrolled": true,
                "tags": []
            },
            "outputs": [],
            "source": [
                "vector_index = GPTSimpleVectorIndex(nodes, docstore=docstore) "
            ]
        },
        {
            "cell_type": "code",
            "execution_count": null,
            "id": "364ef89f-4ba2-4b1a-b5e5-619e0e8420ef",
            "metadata": {
                "scrolled": true,
                "tags": []
            },
            "outputs": [],
            "source": [
                "keyword_table_index = GPTSimpleKeywordTableIndex(nodes, docstore=docstore) "
            ]
        },
        {
            "cell_type": "code",
            "execution_count": null,
            "id": "5c6b2141-fc77-4dec-891b-d4dad0633b35",
            "metadata": {
                "scrolled": true,
                "tags": []
            },
            "outputs": [],
            "source": [
                "# NOTE: the docstore still has the same nodes\n",
                "len(docstore.docs)"
            ]
        },
        {
            "cell_type": "markdown",
            "id": "d3bf6aaf-3375-4212-8323-777969a918f7",
            "metadata": {},
            "source": [
                "#### Test out some Queries"
            ]
        },
        {
            "cell_type": "code",
            "execution_count": null,
            "id": "9bba68f3-2743-437e-93b6-ce9ba92e40c3",
            "metadata": {
                "scrolled": true,
                "tags": []
            },
            "outputs": [],
            "source": [
                "llm_predictor_chatgpt = LLMPredictor(llm=ChatOpenAI(temperature=0, model_name=\"gpt-3.5-turbo\"))\n",
                "service_context_chatgpt = ServiceContext.from_defaults(llm_predictor=llm_predictor_chatgpt, chunk_size_limit=1024)"
            ]
        },
        {
            "cell_type": "code",
            "execution_count": null,
            "id": "544c0565-72a0-434b-98e5-83138ebdaa2b",
            "metadata": {
                "scrolled": true
            },
            "outputs": [],
            "source": [
                "list_response = list_index.query(\"What is a summary of this document?\") "
            ]
        },
        {
            "cell_type": "code",
            "execution_count": null,
            "id": "39d250be",
            "metadata": {},
            "outputs": [],
            "source": [
                "display_response(list_response)"
            ]
        },
        {
            "cell_type": "code",
            "execution_count": null,
            "id": "036077b7-108e-4026-9628-44c694343460",
            "metadata": {
                "scrolled": true
            },
            "outputs": [],
            "source": [
                "vector_response = vector_index.query(\"What did the author do growing up?\") "
            ]
        },
        {
            "cell_type": "code",
            "execution_count": null,
            "id": "42229e09",
            "metadata": {},
            "outputs": [],
            "source": [
                "display_response(vector_response)"
            ]
        },
        {
            "cell_type": "code",
            "execution_count": null,
            "id": "ecd7719c-f663-4edb-a239-d2a8f0a5c091",
            "metadata": {
                "scrolled": true,
                "tags": []
            },
            "outputs": [],
            "source": [
                "keyword_response = keyword_table_index.query(\"What did the author do after his time at YC?\")"
            ]
        },
        {
            "cell_type": "code",
            "execution_count": null,
            "id": "37524641-2632-4a76-8ae6-00f1285256d9",
            "metadata": {
                "scrolled": true,
                "tags": []
            },
            "outputs": [],
            "source": [
                "display_response(keyword_response)"
            ]
        },
        {
            "cell_type": "code",
            "execution_count": null,
            "id": "ff58018c-3117-4d50-abff-16a1873eda9c",
            "metadata": {
                "scrolled": true
            },
            "outputs": [],
            "source": []
        }
    ],
    "metadata": {
        "kernelspec": {
            "display_name": "Python 3 (ipykernel)",
            "language": "python",
            "name": "python3"
        },
        "language_info": {
            "codemirror_mode": {
                "name": "ipython",
                "version": 3
            },
            "file_extension": ".py",
            "mimetype": "text/x-python",
            "name": "python",
            "nbconvert_exporter": "python",
            "pygments_lexer": "ipython3",
            "version": "3.10.10"
        }
    },
    "nbformat": 4,
    "nbformat_minor": 5
}